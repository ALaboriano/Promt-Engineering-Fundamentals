{
  "nbformat": 4,
  "nbformat_minor": 0,
  "metadata": {
    "colab": {
      "provenance": []
    },
    "kernelspec": {
      "name": "python3",
      "display_name": "Python 3"
    },
    "language_info": {
      "name": "python"
    }
  },
  "cells": [
    {
      "cell_type": "markdown",
      "source": [
        "# 1. Configurar entorno de Trabajo.\n",
        "\n"
      ],
      "metadata": {
        "id": "TrbmPQ4lwlpu"
      }
    },
    {
      "cell_type": "markdown",
      "source": [
        "## 1.1. Local - MV.\n",
        "Si se trabaja en un entorno local o una máquina virtual lo ideal es crear un entorno virtual.\n",
        "```Python\n",
        "# Crea un nuevo entorno virtual llamado 'mi_entorno' con Python 3.9\n",
        "!conda create -n mi_entorno python=3.9\n",
        "\n",
        "# Activa el entorno virtual (Linux/macOS)\n",
        "!conda activate mi_entorno\n",
        "\n",
        "# Instala paquetes dentro del entorno virtual\n",
        "!conda install -n mi_entorno <nombre_del_paquete>\n",
        "\n",
        "# Desactiva el entorno virtual\n",
        "```"
      ],
      "metadata": {
        "id": "MMD3xW7nylAC"
      }
    },
    {
      "cell_type": "markdown",
      "source": [
        "## 1.2. Google colab\n",
        "\n",
        "```Python\n",
        "from google.colab import drive\n",
        "drive.mount('/content/drive')\n",
        "# setear Directorio\n",
        "path = \"/content/drive/MyDrive/genai/PromptEngineering\"\n",
        "%cd {path}\n",
        "\n",
        "```"
      ],
      "metadata": {
        "id": "s8W4aH5ezTej"
      }
    },
    {
      "cell_type": "code",
      "source": [
        "from google.colab import drive\n",
        "drive.mount('/content/drive')"
      ],
      "metadata": {
        "colab": {
          "base_uri": "https://localhost:8080/"
        },
        "id": "V5RmlaR9zSda",
        "outputId": "7b7b3ef0-933c-4863-d97e-700304d36f4c"
      },
      "execution_count": 1,
      "outputs": [
        {
          "output_type": "stream",
          "name": "stdout",
          "text": [
            "Mounted at /content/drive\n"
          ]
        }
      ]
    },
    {
      "cell_type": "code",
      "source": [
        "path = \"/content/drive/MyDrive/genai/PromptEngineering\"\n",
        "%cd {path}"
      ],
      "metadata": {
        "colab": {
          "base_uri": "https://localhost:8080/"
        },
        "id": "J3faYpgbzuw_",
        "outputId": "4fcf8fe7-7c36-4bf5-a957-51806a708385"
      },
      "execution_count": 4,
      "outputs": [
        {
          "output_type": "stream",
          "name": "stdout",
          "text": [
            "/content/drive/MyDrive/genai/PromptEngineering\n"
          ]
        }
      ]
    },
    {
      "cell_type": "markdown",
      "source": [
        "# 2. Utilizar el API de chatGPT\n",
        "\n",
        "- Para utilizar el API, necesitamos crear un cuenta en [OpenAI](https://platform.openai.com/docs/overview) y luego ingresar a este [link](https://platform.openai.com/api-keys) para conseguir tus creenciales.\n",
        "- Una vez obtenidas o creadas las credenciales, configurarlos, de manera que lo podamos utilizar para conectarse al modelo.\n",
        "```Python\n",
        "# nano .env\n",
        "OPENAI_API_KEY = \"xxxxxxxxxxxx\"\n",
        "CTRL+O\n",
        "ENTER\n",
        "CTRL+X\n",
        "```"
      ],
      "metadata": {
        "id": "NLGQPTfF0viR"
      }
    },
    {
      "cell_type": "code",
      "source": [
        "#!touch .env\n",
        "# Escribe en el archivo .env\n",
        "#with open(\".env\", \"w\") as f:\n",
        "#  f.write(\"OPENAI_API_KEY = \\\"TU_CLAVE_API\\\"\\n\")"
      ],
      "metadata": {
        "id": "l_UyUOZo_DKE"
      },
      "execution_count": 12,
      "outputs": []
    },
    {
      "cell_type": "code",
      "source": [
        "#!pip install python-dotenv\n",
        "!pip install openai"
      ],
      "metadata": {
        "colab": {
          "base_uri": "https://localhost:8080/"
        },
        "id": "6Tx8_5ndAMDc",
        "outputId": "226ee5fe-5963-40f0-9754-7181e97e3013"
      },
      "execution_count": 16,
      "outputs": [
        {
          "output_type": "stream",
          "name": "stdout",
          "text": [
            "Requirement already satisfied: openai in /usr/local/lib/python3.11/dist-packages (1.59.9)\n",
            "Requirement already satisfied: anyio<5,>=3.5.0 in /usr/local/lib/python3.11/dist-packages (from openai) (3.7.1)\n",
            "Requirement already satisfied: distro<2,>=1.7.0 in /usr/local/lib/python3.11/dist-packages (from openai) (1.9.0)\n",
            "Requirement already satisfied: httpx<1,>=0.23.0 in /usr/local/lib/python3.11/dist-packages (from openai) (0.28.1)\n",
            "Requirement already satisfied: jiter<1,>=0.4.0 in /usr/local/lib/python3.11/dist-packages (from openai) (0.8.2)\n",
            "Requirement already satisfied: pydantic<3,>=1.9.0 in /usr/local/lib/python3.11/dist-packages (from openai) (2.10.6)\n",
            "Requirement already satisfied: sniffio in /usr/local/lib/python3.11/dist-packages (from openai) (1.3.1)\n",
            "Requirement already satisfied: tqdm>4 in /usr/local/lib/python3.11/dist-packages (from openai) (4.67.1)\n",
            "Requirement already satisfied: typing-extensions<5,>=4.11 in /usr/local/lib/python3.11/dist-packages (from openai) (4.12.2)\n",
            "Requirement already satisfied: idna>=2.8 in /usr/local/lib/python3.11/dist-packages (from anyio<5,>=3.5.0->openai) (3.10)\n",
            "Requirement already satisfied: certifi in /usr/local/lib/python3.11/dist-packages (from httpx<1,>=0.23.0->openai) (2024.12.14)\n",
            "Requirement already satisfied: httpcore==1.* in /usr/local/lib/python3.11/dist-packages (from httpx<1,>=0.23.0->openai) (1.0.7)\n",
            "Requirement already satisfied: h11<0.15,>=0.13 in /usr/local/lib/python3.11/dist-packages (from httpcore==1.*->httpx<1,>=0.23.0->openai) (0.14.0)\n",
            "Requirement already satisfied: annotated-types>=0.6.0 in /usr/local/lib/python3.11/dist-packages (from pydantic<3,>=1.9.0->openai) (0.7.0)\n",
            "Requirement already satisfied: pydantic-core==2.27.2 in /usr/local/lib/python3.11/dist-packages (from pydantic<3,>=1.9.0->openai) (2.27.2)\n"
          ]
        }
      ]
    },
    {
      "cell_type": "code",
      "source": [
        "# Cargar credenciales\n",
        "from dotenv import load_dotenv\n",
        "load_dotenv() # take environment variables from .env.\n",
        "# Set your OpenAI key as an environment variable\n",
        "# https://platform.openai.com/api-keys\n",
        "from openai import OpenAI\n",
        "import os\n",
        "client = OpenAI(\n",
        "api_key=os.environ['OPENAI_API_KEY'], # Default\n",
        ")\n"
      ],
      "metadata": {
        "id": "4WJmqvqa_t6F"
      },
      "execution_count": 21,
      "outputs": []
    },
    {
      "cell_type": "code",
      "source": [
        "def get_response(prompt):\n",
        "    response = client.chat.completions.create(\n",
        "    model=\"gpt-3.5-turbo\",\n",
        "    messages=[\n",
        "        {\n",
        "            \"role\": \"system\",\n",
        "            \"content\": \"You are a helpful assistant.\"\n",
        "        },\n",
        "        {\n",
        "            \"role\": \"user\",\n",
        "            \"content\": prompt\n",
        "        }\n",
        "    ]\n",
        "    )\n",
        "    return response.choices[0].message.content"
      ],
      "metadata": {
        "id": "Yb64zkc5AGsH"
      },
      "execution_count": 22,
      "outputs": []
    },
    {
      "cell_type": "code",
      "source": [
        "# Definimos nuestro prompt\n",
        "prompt = \"\"\"\n",
        "Cual es la capital de Colombia?\n",
        "\"\"\""
      ],
      "metadata": {
        "id": "OPMn6A8nF0Ou"
      },
      "execution_count": 25,
      "outputs": []
    },
    {
      "cell_type": "markdown",
      "source": [
        "### Proceso interno\n",
        "- El modelo recibe el mensaje del sistema: \"You are a helpful assistant.\".  \n",
        "- Luego, recibe el mensaje del usuario: \"Cual es la capital de Colombia?\".\n",
        "- Genera una respuesta como: \"La capital de Colombia es Bogotá. 🌆 Es la ciudad más grande del país y su centro político, económico\"."
      ],
      "metadata": {
        "id": "6IVJoxCjGxUW"
      }
    },
    {
      "cell_type": "code",
      "source": [
        "# Preguntamos al modelo\n",
        "get_response(prompt)"
      ],
      "metadata": {
        "colab": {
          "base_uri": "https://localhost:8080/",
          "height": 36
        },
        "id": "lnhUSIcfGYbE",
        "outputId": "f20627c9-31cf-4e2c-9f0d-576903c5c139"
      },
      "execution_count": 26,
      "outputs": [
        {
          "output_type": "execute_result",
          "data": {
            "text/plain": [
              "'La capital de Colombia es Bogotá.'"
            ],
            "application/vnd.google.colaboratory.intrinsic+json": {
              "type": "string"
            }
          },
          "metadata": {},
          "execution_count": 26
        }
      ]
    },
    {
      "cell_type": "code",
      "source": [],
      "metadata": {
        "id": "IIj3vUGwHPPb"
      },
      "execution_count": null,
      "outputs": []
    }
  ]
}
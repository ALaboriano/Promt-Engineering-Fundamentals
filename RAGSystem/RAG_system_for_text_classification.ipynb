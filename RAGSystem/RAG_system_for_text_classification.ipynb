{
  "nbformat": 4,
  "nbformat_minor": 0,
  "metadata": {
    "colab": {
      "provenance": []
    },
    "kernelspec": {
      "name": "python3",
      "display_name": "Python 3"
    },
    "language_info": {
      "name": "python"
    }
  },
  "cells": [
    {
      "cell_type": "code",
      "execution_count": 1,
      "metadata": {
        "colab": {
          "base_uri": "https://localhost:8080/"
        },
        "id": "Mw3BhwGvTJ6c",
        "outputId": "e7da40fe-1fa5-4f53-80a3-ad1baa88cb2a"
      },
      "outputs": [
        {
          "output_type": "stream",
          "name": "stdout",
          "text": [
            "Mounted at /content/drive\n"
          ]
        }
      ],
      "source": [
        "from google.colab import drive\n",
        "drive.mount('/content/drive')"
      ]
    },
    {
      "cell_type": "code",
      "source": [
        "path = \"/content/drive/MyDrive/genai/RAG/textclassif\"\n",
        "%cd {path}"
      ],
      "metadata": {
        "colab": {
          "base_uri": "https://localhost:8080/"
        },
        "id": "76aPPUxWTNun",
        "outputId": "e748cd3f-b710-49fa-e117-f6da8feb2d6f"
      },
      "execution_count": 3,
      "outputs": [
        {
          "output_type": "stream",
          "name": "stdout",
          "text": [
            "/content/drive/MyDrive/genai/RAG/textclassif\n"
          ]
        }
      ]
    },
    {
      "cell_type": "code",
      "source": [
        "#!pip install kagglehub==0.3.7"
      ],
      "metadata": {
        "id": "FetBCRzFUp36"
      },
      "execution_count": 4,
      "outputs": []
    },
    {
      "cell_type": "code",
      "source": [
        "pwd"
      ],
      "metadata": {
        "colab": {
          "base_uri": "https://localhost:8080/",
          "height": 36
        },
        "id": "dYqIOTSOVTV2",
        "outputId": "c733c332-1b34-4ed5-f4a3-ce4f9cc5f417"
      },
      "execution_count": 5,
      "outputs": [
        {
          "output_type": "execute_result",
          "data": {
            "text/plain": [
              "'/content/drive/MyDrive/genai/RAG/textclassif'"
            ],
            "application/vnd.google.colaboratory.intrinsic+json": {
              "type": "string"
            }
          },
          "metadata": {},
          "execution_count": 5
        }
      ]
    },
    {
      "cell_type": "code",
      "source": [
        "# Descargar Data\n",
        "import kagglehub\n",
        "\n",
        "path_data = \"/content/drive/MyDrive/genai/RAG/textclassif/data\"\n",
        "!mkdir {path_data}\n",
        "# Download latest version\n",
        "path_data = kagglehub.dataset_download(\"asaniczka/product-titles-text-classification\")\n",
        "\n",
        "print(\"Path to dataset files:\", path_data)"
      ],
      "metadata": {
        "colab": {
          "base_uri": "https://localhost:8080/"
        },
        "id": "gPuoAm1zTfi8",
        "outputId": "3bf6e830-f414-42c9-b486-2db52441294b"
      },
      "execution_count": 6,
      "outputs": [
        {
          "output_type": "stream",
          "name": "stdout",
          "text": [
            "mkdir: cannot create directory ‘/content/drive/MyDrive/genai/RAG/textclassif/data’: File exists\n",
            "Warning: Looks like you're using an outdated `kagglehub` version (installed: 0.3.6), please consider upgrading to the latest version (0.3.7).\n",
            "Downloading from https://www.kaggle.com/api/v1/datasets/download/asaniczka/product-titles-text-classification?dataset_version_number=3...\n"
          ]
        },
        {
          "output_type": "stream",
          "name": "stderr",
          "text": [
            "100%|██████████| 194M/194M [00:01<00:00, 119MB/s]"
          ]
        },
        {
          "output_type": "stream",
          "name": "stdout",
          "text": [
            "Extracting files...\n"
          ]
        },
        {
          "output_type": "stream",
          "name": "stderr",
          "text": [
            "\n"
          ]
        },
        {
          "output_type": "stream",
          "name": "stdout",
          "text": [
            "Path to dataset files: /root/.cache/kagglehub/datasets/asaniczka/product-titles-text-classification/versions/3\n"
          ]
        }
      ]
    },
    {
      "cell_type": "code",
      "source": [
        "!ls -l {path_data}"
      ],
      "metadata": {
        "colab": {
          "base_uri": "https://localhost:8080/"
        },
        "id": "p5B0XshEUWV0",
        "outputId": "676088d5-dca2-478e-8402-a2f067eb65bc"
      },
      "execution_count": 7,
      "outputs": [
        {
          "output_type": "stream",
          "name": "stdout",
          "text": [
            "total 769952\n",
            "-rw-r--r-- 1 root root 788424413 Feb  7 02:59 titles_to_categories.csv\n"
          ]
        }
      ]
    },
    {
      "cell_type": "code",
      "source": [
        "# Leer data descargda de kaggle\n",
        "import pandas as pd\n",
        "data = pd.read_csv(path_data + \"/titles_to_categories.csv\")\n",
        "data.head()"
      ],
      "metadata": {
        "colab": {
          "base_uri": "https://localhost:8080/",
          "height": 206
        },
        "id": "TjTWILiOT_RI",
        "outputId": "5f9aa893-ef9d-4f35-b66e-a2f5e63dbbb5"
      },
      "execution_count": 8,
      "outputs": [
        {
          "output_type": "execute_result",
          "data": {
            "text/plain": [
              "                                               title           category_name\n",
              "0  Green Leaf WW3D Wonder Extension Cord Winder, ...  Industrial  Scientific\n",
              "1  8pcs Toilet Seat Bumpers Universal Toilet Repl...  Industrial  Scientific\n",
              "2  YaeCCC 19 Pcs Hole Saw Kit 3/4''(19mm)- 6''(15...  Industrial  Scientific\n",
              "3  LLPT Butyl Putty Tape White 1 Inch x 33Ft Tigh...  Industrial  Scientific\n",
              "4  Lightbeam 16\" Long Stem Deep Fry Thermometer w...  Industrial  Scientific"
            ],
            "text/html": [
              "\n",
              "  <div id=\"df-c0032df0-6cca-4a6e-ac8d-dd62e1fbbe62\" class=\"colab-df-container\">\n",
              "    <div>\n",
              "<style scoped>\n",
              "    .dataframe tbody tr th:only-of-type {\n",
              "        vertical-align: middle;\n",
              "    }\n",
              "\n",
              "    .dataframe tbody tr th {\n",
              "        vertical-align: top;\n",
              "    }\n",
              "\n",
              "    .dataframe thead th {\n",
              "        text-align: right;\n",
              "    }\n",
              "</style>\n",
              "<table border=\"1\" class=\"dataframe\">\n",
              "  <thead>\n",
              "    <tr style=\"text-align: right;\">\n",
              "      <th></th>\n",
              "      <th>title</th>\n",
              "      <th>category_name</th>\n",
              "    </tr>\n",
              "  </thead>\n",
              "  <tbody>\n",
              "    <tr>\n",
              "      <th>0</th>\n",
              "      <td>Green Leaf WW3D Wonder Extension Cord Winder, ...</td>\n",
              "      <td>Industrial  Scientific</td>\n",
              "    </tr>\n",
              "    <tr>\n",
              "      <th>1</th>\n",
              "      <td>8pcs Toilet Seat Bumpers Universal Toilet Repl...</td>\n",
              "      <td>Industrial  Scientific</td>\n",
              "    </tr>\n",
              "    <tr>\n",
              "      <th>2</th>\n",
              "      <td>YaeCCC 19 Pcs Hole Saw Kit 3/4''(19mm)- 6''(15...</td>\n",
              "      <td>Industrial  Scientific</td>\n",
              "    </tr>\n",
              "    <tr>\n",
              "      <th>3</th>\n",
              "      <td>LLPT Butyl Putty Tape White 1 Inch x 33Ft Tigh...</td>\n",
              "      <td>Industrial  Scientific</td>\n",
              "    </tr>\n",
              "    <tr>\n",
              "      <th>4</th>\n",
              "      <td>Lightbeam 16\" Long Stem Deep Fry Thermometer w...</td>\n",
              "      <td>Industrial  Scientific</td>\n",
              "    </tr>\n",
              "  </tbody>\n",
              "</table>\n",
              "</div>\n",
              "    <div class=\"colab-df-buttons\">\n",
              "\n",
              "  <div class=\"colab-df-container\">\n",
              "    <button class=\"colab-df-convert\" onclick=\"convertToInteractive('df-c0032df0-6cca-4a6e-ac8d-dd62e1fbbe62')\"\n",
              "            title=\"Convert this dataframe to an interactive table.\"\n",
              "            style=\"display:none;\">\n",
              "\n",
              "  <svg xmlns=\"http://www.w3.org/2000/svg\" height=\"24px\" viewBox=\"0 -960 960 960\">\n",
              "    <path d=\"M120-120v-720h720v720H120Zm60-500h600v-160H180v160Zm220 220h160v-160H400v160Zm0 220h160v-160H400v160ZM180-400h160v-160H180v160Zm440 0h160v-160H620v160ZM180-180h160v-160H180v160Zm440 0h160v-160H620v160Z\"/>\n",
              "  </svg>\n",
              "    </button>\n",
              "\n",
              "  <style>\n",
              "    .colab-df-container {\n",
              "      display:flex;\n",
              "      gap: 12px;\n",
              "    }\n",
              "\n",
              "    .colab-df-convert {\n",
              "      background-color: #E8F0FE;\n",
              "      border: none;\n",
              "      border-radius: 50%;\n",
              "      cursor: pointer;\n",
              "      display: none;\n",
              "      fill: #1967D2;\n",
              "      height: 32px;\n",
              "      padding: 0 0 0 0;\n",
              "      width: 32px;\n",
              "    }\n",
              "\n",
              "    .colab-df-convert:hover {\n",
              "      background-color: #E2EBFA;\n",
              "      box-shadow: 0px 1px 2px rgba(60, 64, 67, 0.3), 0px 1px 3px 1px rgba(60, 64, 67, 0.15);\n",
              "      fill: #174EA6;\n",
              "    }\n",
              "\n",
              "    .colab-df-buttons div {\n",
              "      margin-bottom: 4px;\n",
              "    }\n",
              "\n",
              "    [theme=dark] .colab-df-convert {\n",
              "      background-color: #3B4455;\n",
              "      fill: #D2E3FC;\n",
              "    }\n",
              "\n",
              "    [theme=dark] .colab-df-convert:hover {\n",
              "      background-color: #434B5C;\n",
              "      box-shadow: 0px 1px 3px 1px rgba(0, 0, 0, 0.15);\n",
              "      filter: drop-shadow(0px 1px 2px rgba(0, 0, 0, 0.3));\n",
              "      fill: #FFFFFF;\n",
              "    }\n",
              "  </style>\n",
              "\n",
              "    <script>\n",
              "      const buttonEl =\n",
              "        document.querySelector('#df-c0032df0-6cca-4a6e-ac8d-dd62e1fbbe62 button.colab-df-convert');\n",
              "      buttonEl.style.display =\n",
              "        google.colab.kernel.accessAllowed ? 'block' : 'none';\n",
              "\n",
              "      async function convertToInteractive(key) {\n",
              "        const element = document.querySelector('#df-c0032df0-6cca-4a6e-ac8d-dd62e1fbbe62');\n",
              "        const dataTable =\n",
              "          await google.colab.kernel.invokeFunction('convertToInteractive',\n",
              "                                                    [key], {});\n",
              "        if (!dataTable) return;\n",
              "\n",
              "        const docLinkHtml = 'Like what you see? Visit the ' +\n",
              "          '<a target=\"_blank\" href=https://colab.research.google.com/notebooks/data_table.ipynb>data table notebook</a>'\n",
              "          + ' to learn more about interactive tables.';\n",
              "        element.innerHTML = '';\n",
              "        dataTable['output_type'] = 'display_data';\n",
              "        await google.colab.output.renderOutput(dataTable, element);\n",
              "        const docLink = document.createElement('div');\n",
              "        docLink.innerHTML = docLinkHtml;\n",
              "        element.appendChild(docLink);\n",
              "      }\n",
              "    </script>\n",
              "  </div>\n",
              "\n",
              "\n",
              "<div id=\"df-4f7e164f-27e2-44d8-9a0e-5c4825ebf1ab\">\n",
              "  <button class=\"colab-df-quickchart\" onclick=\"quickchart('df-4f7e164f-27e2-44d8-9a0e-5c4825ebf1ab')\"\n",
              "            title=\"Suggest charts\"\n",
              "            style=\"display:none;\">\n",
              "\n",
              "<svg xmlns=\"http://www.w3.org/2000/svg\" height=\"24px\"viewBox=\"0 0 24 24\"\n",
              "     width=\"24px\">\n",
              "    <g>\n",
              "        <path d=\"M19 3H5c-1.1 0-2 .9-2 2v14c0 1.1.9 2 2 2h14c1.1 0 2-.9 2-2V5c0-1.1-.9-2-2-2zM9 17H7v-7h2v7zm4 0h-2V7h2v10zm4 0h-2v-4h2v4z\"/>\n",
              "    </g>\n",
              "</svg>\n",
              "  </button>\n",
              "\n",
              "<style>\n",
              "  .colab-df-quickchart {\n",
              "      --bg-color: #E8F0FE;\n",
              "      --fill-color: #1967D2;\n",
              "      --hover-bg-color: #E2EBFA;\n",
              "      --hover-fill-color: #174EA6;\n",
              "      --disabled-fill-color: #AAA;\n",
              "      --disabled-bg-color: #DDD;\n",
              "  }\n",
              "\n",
              "  [theme=dark] .colab-df-quickchart {\n",
              "      --bg-color: #3B4455;\n",
              "      --fill-color: #D2E3FC;\n",
              "      --hover-bg-color: #434B5C;\n",
              "      --hover-fill-color: #FFFFFF;\n",
              "      --disabled-bg-color: #3B4455;\n",
              "      --disabled-fill-color: #666;\n",
              "  }\n",
              "\n",
              "  .colab-df-quickchart {\n",
              "    background-color: var(--bg-color);\n",
              "    border: none;\n",
              "    border-radius: 50%;\n",
              "    cursor: pointer;\n",
              "    display: none;\n",
              "    fill: var(--fill-color);\n",
              "    height: 32px;\n",
              "    padding: 0;\n",
              "    width: 32px;\n",
              "  }\n",
              "\n",
              "  .colab-df-quickchart:hover {\n",
              "    background-color: var(--hover-bg-color);\n",
              "    box-shadow: 0 1px 2px rgba(60, 64, 67, 0.3), 0 1px 3px 1px rgba(60, 64, 67, 0.15);\n",
              "    fill: var(--button-hover-fill-color);\n",
              "  }\n",
              "\n",
              "  .colab-df-quickchart-complete:disabled,\n",
              "  .colab-df-quickchart-complete:disabled:hover {\n",
              "    background-color: var(--disabled-bg-color);\n",
              "    fill: var(--disabled-fill-color);\n",
              "    box-shadow: none;\n",
              "  }\n",
              "\n",
              "  .colab-df-spinner {\n",
              "    border: 2px solid var(--fill-color);\n",
              "    border-color: transparent;\n",
              "    border-bottom-color: var(--fill-color);\n",
              "    animation:\n",
              "      spin 1s steps(1) infinite;\n",
              "  }\n",
              "\n",
              "  @keyframes spin {\n",
              "    0% {\n",
              "      border-color: transparent;\n",
              "      border-bottom-color: var(--fill-color);\n",
              "      border-left-color: var(--fill-color);\n",
              "    }\n",
              "    20% {\n",
              "      border-color: transparent;\n",
              "      border-left-color: var(--fill-color);\n",
              "      border-top-color: var(--fill-color);\n",
              "    }\n",
              "    30% {\n",
              "      border-color: transparent;\n",
              "      border-left-color: var(--fill-color);\n",
              "      border-top-color: var(--fill-color);\n",
              "      border-right-color: var(--fill-color);\n",
              "    }\n",
              "    40% {\n",
              "      border-color: transparent;\n",
              "      border-right-color: var(--fill-color);\n",
              "      border-top-color: var(--fill-color);\n",
              "    }\n",
              "    60% {\n",
              "      border-color: transparent;\n",
              "      border-right-color: var(--fill-color);\n",
              "    }\n",
              "    80% {\n",
              "      border-color: transparent;\n",
              "      border-right-color: var(--fill-color);\n",
              "      border-bottom-color: var(--fill-color);\n",
              "    }\n",
              "    90% {\n",
              "      border-color: transparent;\n",
              "      border-bottom-color: var(--fill-color);\n",
              "    }\n",
              "  }\n",
              "</style>\n",
              "\n",
              "  <script>\n",
              "    async function quickchart(key) {\n",
              "      const quickchartButtonEl =\n",
              "        document.querySelector('#' + key + ' button');\n",
              "      quickchartButtonEl.disabled = true;  // To prevent multiple clicks.\n",
              "      quickchartButtonEl.classList.add('colab-df-spinner');\n",
              "      try {\n",
              "        const charts = await google.colab.kernel.invokeFunction(\n",
              "            'suggestCharts', [key], {});\n",
              "      } catch (error) {\n",
              "        console.error('Error during call to suggestCharts:', error);\n",
              "      }\n",
              "      quickchartButtonEl.classList.remove('colab-df-spinner');\n",
              "      quickchartButtonEl.classList.add('colab-df-quickchart-complete');\n",
              "    }\n",
              "    (() => {\n",
              "      let quickchartButtonEl =\n",
              "        document.querySelector('#df-4f7e164f-27e2-44d8-9a0e-5c4825ebf1ab button');\n",
              "      quickchartButtonEl.style.display =\n",
              "        google.colab.kernel.accessAllowed ? 'block' : 'none';\n",
              "    })();\n",
              "  </script>\n",
              "</div>\n",
              "\n",
              "    </div>\n",
              "  </div>\n"
            ],
            "application/vnd.google.colaboratory.intrinsic+json": {
              "type": "dataframe",
              "variable_name": "data"
            }
          },
          "metadata": {},
          "execution_count": 8
        }
      ]
    },
    {
      "cell_type": "code",
      "source": [
        "data.shape"
      ],
      "metadata": {
        "colab": {
          "base_uri": "https://localhost:8080/"
        },
        "id": "RZJ5O6ICVn2n",
        "outputId": "bfd29531-e164-45ad-b317-53ff931b66e5"
      },
      "execution_count": 9,
      "outputs": [
        {
          "output_type": "execute_result",
          "data": {
            "text/plain": [
              "(5389901, 2)"
            ]
          },
          "metadata": {},
          "execution_count": 9
        }
      ]
    },
    {
      "cell_type": "code",
      "source": [
        "data.groupby(\"category_name\").count().sort_values(by=\"title\", ascending=False)"
      ],
      "metadata": {
        "colab": {
          "base_uri": "https://localhost:8080/",
          "height": 455
        },
        "id": "TbxXs4WlWYdm",
        "outputId": "ef725e92-fe7a-46ba-dbde-d679e2c47aee"
      },
      "execution_count": 12,
      "outputs": [
        {
          "output_type": "execute_result",
          "data": {
            "text/plain": [
              "                                                 title\n",
              "category_name                                         \n",
              "Sports & Outdoors                               720050\n",
              "Baby                                             36154\n",
              "Men's Shoes                                      32143\n",
              "Women's Handbags                                 29934\n",
              "Women's Shoes                                    28668\n",
              "...                                                ...\n",
              "Garment Bags                                        39\n",
              "Gift Cards                                          29\n",
              "Smart Speakers                                      25\n",
              "Smart Home Thermostats - Compatibility Checker      22\n",
              "Cameras                                             12\n",
              "\n",
              "[726 rows x 1 columns]"
            ],
            "text/html": [
              "\n",
              "  <div id=\"df-73cffb7e-358b-45f6-91cf-04bb0bf2a75e\" class=\"colab-df-container\">\n",
              "    <div>\n",
              "<style scoped>\n",
              "    .dataframe tbody tr th:only-of-type {\n",
              "        vertical-align: middle;\n",
              "    }\n",
              "\n",
              "    .dataframe tbody tr th {\n",
              "        vertical-align: top;\n",
              "    }\n",
              "\n",
              "    .dataframe thead th {\n",
              "        text-align: right;\n",
              "    }\n",
              "</style>\n",
              "<table border=\"1\" class=\"dataframe\">\n",
              "  <thead>\n",
              "    <tr style=\"text-align: right;\">\n",
              "      <th></th>\n",
              "      <th>title</th>\n",
              "    </tr>\n",
              "    <tr>\n",
              "      <th>category_name</th>\n",
              "      <th></th>\n",
              "    </tr>\n",
              "  </thead>\n",
              "  <tbody>\n",
              "    <tr>\n",
              "      <th>Sports &amp; Outdoors</th>\n",
              "      <td>720050</td>\n",
              "    </tr>\n",
              "    <tr>\n",
              "      <th>Baby</th>\n",
              "      <td>36154</td>\n",
              "    </tr>\n",
              "    <tr>\n",
              "      <th>Men's Shoes</th>\n",
              "      <td>32143</td>\n",
              "    </tr>\n",
              "    <tr>\n",
              "      <th>Women's Handbags</th>\n",
              "      <td>29934</td>\n",
              "    </tr>\n",
              "    <tr>\n",
              "      <th>Women's Shoes</th>\n",
              "      <td>28668</td>\n",
              "    </tr>\n",
              "    <tr>\n",
              "      <th>...</th>\n",
              "      <td>...</td>\n",
              "    </tr>\n",
              "    <tr>\n",
              "      <th>Garment Bags</th>\n",
              "      <td>39</td>\n",
              "    </tr>\n",
              "    <tr>\n",
              "      <th>Gift Cards</th>\n",
              "      <td>29</td>\n",
              "    </tr>\n",
              "    <tr>\n",
              "      <th>Smart Speakers</th>\n",
              "      <td>25</td>\n",
              "    </tr>\n",
              "    <tr>\n",
              "      <th>Smart Home Thermostats - Compatibility Checker</th>\n",
              "      <td>22</td>\n",
              "    </tr>\n",
              "    <tr>\n",
              "      <th>Cameras</th>\n",
              "      <td>12</td>\n",
              "    </tr>\n",
              "  </tbody>\n",
              "</table>\n",
              "<p>726 rows × 1 columns</p>\n",
              "</div>\n",
              "    <div class=\"colab-df-buttons\">\n",
              "\n",
              "  <div class=\"colab-df-container\">\n",
              "    <button class=\"colab-df-convert\" onclick=\"convertToInteractive('df-73cffb7e-358b-45f6-91cf-04bb0bf2a75e')\"\n",
              "            title=\"Convert this dataframe to an interactive table.\"\n",
              "            style=\"display:none;\">\n",
              "\n",
              "  <svg xmlns=\"http://www.w3.org/2000/svg\" height=\"24px\" viewBox=\"0 -960 960 960\">\n",
              "    <path d=\"M120-120v-720h720v720H120Zm60-500h600v-160H180v160Zm220 220h160v-160H400v160Zm0 220h160v-160H400v160ZM180-400h160v-160H180v160Zm440 0h160v-160H620v160ZM180-180h160v-160H180v160Zm440 0h160v-160H620v160Z\"/>\n",
              "  </svg>\n",
              "    </button>\n",
              "\n",
              "  <style>\n",
              "    .colab-df-container {\n",
              "      display:flex;\n",
              "      gap: 12px;\n",
              "    }\n",
              "\n",
              "    .colab-df-convert {\n",
              "      background-color: #E8F0FE;\n",
              "      border: none;\n",
              "      border-radius: 50%;\n",
              "      cursor: pointer;\n",
              "      display: none;\n",
              "      fill: #1967D2;\n",
              "      height: 32px;\n",
              "      padding: 0 0 0 0;\n",
              "      width: 32px;\n",
              "    }\n",
              "\n",
              "    .colab-df-convert:hover {\n",
              "      background-color: #E2EBFA;\n",
              "      box-shadow: 0px 1px 2px rgba(60, 64, 67, 0.3), 0px 1px 3px 1px rgba(60, 64, 67, 0.15);\n",
              "      fill: #174EA6;\n",
              "    }\n",
              "\n",
              "    .colab-df-buttons div {\n",
              "      margin-bottom: 4px;\n",
              "    }\n",
              "\n",
              "    [theme=dark] .colab-df-convert {\n",
              "      background-color: #3B4455;\n",
              "      fill: #D2E3FC;\n",
              "    }\n",
              "\n",
              "    [theme=dark] .colab-df-convert:hover {\n",
              "      background-color: #434B5C;\n",
              "      box-shadow: 0px 1px 3px 1px rgba(0, 0, 0, 0.15);\n",
              "      filter: drop-shadow(0px 1px 2px rgba(0, 0, 0, 0.3));\n",
              "      fill: #FFFFFF;\n",
              "    }\n",
              "  </style>\n",
              "\n",
              "    <script>\n",
              "      const buttonEl =\n",
              "        document.querySelector('#df-73cffb7e-358b-45f6-91cf-04bb0bf2a75e button.colab-df-convert');\n",
              "      buttonEl.style.display =\n",
              "        google.colab.kernel.accessAllowed ? 'block' : 'none';\n",
              "\n",
              "      async function convertToInteractive(key) {\n",
              "        const element = document.querySelector('#df-73cffb7e-358b-45f6-91cf-04bb0bf2a75e');\n",
              "        const dataTable =\n",
              "          await google.colab.kernel.invokeFunction('convertToInteractive',\n",
              "                                                    [key], {});\n",
              "        if (!dataTable) return;\n",
              "\n",
              "        const docLinkHtml = 'Like what you see? Visit the ' +\n",
              "          '<a target=\"_blank\" href=https://colab.research.google.com/notebooks/data_table.ipynb>data table notebook</a>'\n",
              "          + ' to learn more about interactive tables.';\n",
              "        element.innerHTML = '';\n",
              "        dataTable['output_type'] = 'display_data';\n",
              "        await google.colab.output.renderOutput(dataTable, element);\n",
              "        const docLink = document.createElement('div');\n",
              "        docLink.innerHTML = docLinkHtml;\n",
              "        element.appendChild(docLink);\n",
              "      }\n",
              "    </script>\n",
              "  </div>\n",
              "\n",
              "\n",
              "<div id=\"df-01cdfa7e-4a7d-4ddb-8dc1-9d27b43666d2\">\n",
              "  <button class=\"colab-df-quickchart\" onclick=\"quickchart('df-01cdfa7e-4a7d-4ddb-8dc1-9d27b43666d2')\"\n",
              "            title=\"Suggest charts\"\n",
              "            style=\"display:none;\">\n",
              "\n",
              "<svg xmlns=\"http://www.w3.org/2000/svg\" height=\"24px\"viewBox=\"0 0 24 24\"\n",
              "     width=\"24px\">\n",
              "    <g>\n",
              "        <path d=\"M19 3H5c-1.1 0-2 .9-2 2v14c0 1.1.9 2 2 2h14c1.1 0 2-.9 2-2V5c0-1.1-.9-2-2-2zM9 17H7v-7h2v7zm4 0h-2V7h2v10zm4 0h-2v-4h2v4z\"/>\n",
              "    </g>\n",
              "</svg>\n",
              "  </button>\n",
              "\n",
              "<style>\n",
              "  .colab-df-quickchart {\n",
              "      --bg-color: #E8F0FE;\n",
              "      --fill-color: #1967D2;\n",
              "      --hover-bg-color: #E2EBFA;\n",
              "      --hover-fill-color: #174EA6;\n",
              "      --disabled-fill-color: #AAA;\n",
              "      --disabled-bg-color: #DDD;\n",
              "  }\n",
              "\n",
              "  [theme=dark] .colab-df-quickchart {\n",
              "      --bg-color: #3B4455;\n",
              "      --fill-color: #D2E3FC;\n",
              "      --hover-bg-color: #434B5C;\n",
              "      --hover-fill-color: #FFFFFF;\n",
              "      --disabled-bg-color: #3B4455;\n",
              "      --disabled-fill-color: #666;\n",
              "  }\n",
              "\n",
              "  .colab-df-quickchart {\n",
              "    background-color: var(--bg-color);\n",
              "    border: none;\n",
              "    border-radius: 50%;\n",
              "    cursor: pointer;\n",
              "    display: none;\n",
              "    fill: var(--fill-color);\n",
              "    height: 32px;\n",
              "    padding: 0;\n",
              "    width: 32px;\n",
              "  }\n",
              "\n",
              "  .colab-df-quickchart:hover {\n",
              "    background-color: var(--hover-bg-color);\n",
              "    box-shadow: 0 1px 2px rgba(60, 64, 67, 0.3), 0 1px 3px 1px rgba(60, 64, 67, 0.15);\n",
              "    fill: var(--button-hover-fill-color);\n",
              "  }\n",
              "\n",
              "  .colab-df-quickchart-complete:disabled,\n",
              "  .colab-df-quickchart-complete:disabled:hover {\n",
              "    background-color: var(--disabled-bg-color);\n",
              "    fill: var(--disabled-fill-color);\n",
              "    box-shadow: none;\n",
              "  }\n",
              "\n",
              "  .colab-df-spinner {\n",
              "    border: 2px solid var(--fill-color);\n",
              "    border-color: transparent;\n",
              "    border-bottom-color: var(--fill-color);\n",
              "    animation:\n",
              "      spin 1s steps(1) infinite;\n",
              "  }\n",
              "\n",
              "  @keyframes spin {\n",
              "    0% {\n",
              "      border-color: transparent;\n",
              "      border-bottom-color: var(--fill-color);\n",
              "      border-left-color: var(--fill-color);\n",
              "    }\n",
              "    20% {\n",
              "      border-color: transparent;\n",
              "      border-left-color: var(--fill-color);\n",
              "      border-top-color: var(--fill-color);\n",
              "    }\n",
              "    30% {\n",
              "      border-color: transparent;\n",
              "      border-left-color: var(--fill-color);\n",
              "      border-top-color: var(--fill-color);\n",
              "      border-right-color: var(--fill-color);\n",
              "    }\n",
              "    40% {\n",
              "      border-color: transparent;\n",
              "      border-right-color: var(--fill-color);\n",
              "      border-top-color: var(--fill-color);\n",
              "    }\n",
              "    60% {\n",
              "      border-color: transparent;\n",
              "      border-right-color: var(--fill-color);\n",
              "    }\n",
              "    80% {\n",
              "      border-color: transparent;\n",
              "      border-right-color: var(--fill-color);\n",
              "      border-bottom-color: var(--fill-color);\n",
              "    }\n",
              "    90% {\n",
              "      border-color: transparent;\n",
              "      border-bottom-color: var(--fill-color);\n",
              "    }\n",
              "  }\n",
              "</style>\n",
              "\n",
              "  <script>\n",
              "    async function quickchart(key) {\n",
              "      const quickchartButtonEl =\n",
              "        document.querySelector('#' + key + ' button');\n",
              "      quickchartButtonEl.disabled = true;  // To prevent multiple clicks.\n",
              "      quickchartButtonEl.classList.add('colab-df-spinner');\n",
              "      try {\n",
              "        const charts = await google.colab.kernel.invokeFunction(\n",
              "            'suggestCharts', [key], {});\n",
              "      } catch (error) {\n",
              "        console.error('Error during call to suggestCharts:', error);\n",
              "      }\n",
              "      quickchartButtonEl.classList.remove('colab-df-spinner');\n",
              "      quickchartButtonEl.classList.add('colab-df-quickchart-complete');\n",
              "    }\n",
              "    (() => {\n",
              "      let quickchartButtonEl =\n",
              "        document.querySelector('#df-01cdfa7e-4a7d-4ddb-8dc1-9d27b43666d2 button');\n",
              "      quickchartButtonEl.style.display =\n",
              "        google.colab.kernel.accessAllowed ? 'block' : 'none';\n",
              "    })();\n",
              "  </script>\n",
              "</div>\n",
              "\n",
              "    </div>\n",
              "  </div>\n"
            ],
            "application/vnd.google.colaboratory.intrinsic+json": {
              "type": "dataframe",
              "summary": "{\n  \"name\": \"data\",\n  \"rows\": 726,\n  \"fields\": [\n    {\n      \"column\": \"category_name\",\n      \"properties\": {\n        \"dtype\": \"string\",\n        \"num_unique_values\": 726,\n        \"samples\": [\n          \"Radios & Boomboxes\",\n          \"Karaoke Equipment\",\n          \"Sony PSP Games, Consoles & Accessories\"\n        ],\n        \"semantic_type\": \"\",\n        \"description\": \"\"\n      }\n    },\n    {\n      \"column\": \"title\",\n      \"properties\": {\n        \"dtype\": \"number\",\n        \"std\": 27082,\n        \"min\": 12,\n        \"max\": 720050,\n        \"num_unique_values\": 678,\n        \"samples\": [\n          197,\n          6426,\n          14927\n        ],\n        \"semantic_type\": \"\",\n        \"description\": \"\"\n      }\n    }\n  ]\n}"
            }
          },
          "metadata": {},
          "execution_count": 12
        }
      ]
    },
    {
      "cell_type": "code",
      "source": [
        "# Dividir en train y test\n",
        "from sklearn.model_selection import train_test_split\n",
        "train, test = train_test_split(data, test_size=0.2, random_state=42, shuffle=True)"
      ],
      "metadata": {
        "id": "lq63ZYvDWqwO"
      },
      "execution_count": 35,
      "outputs": []
    },
    {
      "cell_type": "code",
      "source": [
        "train.shape, test.shape"
      ],
      "metadata": {
        "colab": {
          "base_uri": "https://localhost:8080/"
        },
        "id": "G9w5-UyqWv_Z",
        "outputId": "21efb3ca-70d9-4893-f576-6eceefb48d4a"
      },
      "execution_count": 36,
      "outputs": [
        {
          "output_type": "execute_result",
          "data": {
            "text/plain": [
              "((4311920, 2), (1077981, 2))"
            ]
          },
          "metadata": {},
          "execution_count": 36
        }
      ]
    },
    {
      "cell_type": "code",
      "source": [
        "!pip install langchain openai pandas faiss-cpu"
      ],
      "metadata": {
        "colab": {
          "base_uri": "https://localhost:8080/"
        },
        "id": "3Gmnk8hjW2lv",
        "outputId": "6d38bc4a-e4c8-482d-9d65-fb28e1ae67e7"
      },
      "execution_count": 15,
      "outputs": [
        {
          "output_type": "stream",
          "name": "stdout",
          "text": [
            "Requirement already satisfied: langchain in /usr/local/lib/python3.11/dist-packages (0.3.17)\n",
            "Requirement already satisfied: openai in /usr/local/lib/python3.11/dist-packages (1.61.0)\n",
            "Requirement already satisfied: pandas in /usr/local/lib/python3.11/dist-packages (2.2.2)\n",
            "Collecting faiss-cpu\n",
            "  Downloading faiss_cpu-1.10.0-cp311-cp311-manylinux_2_28_x86_64.whl.metadata (4.4 kB)\n",
            "Requirement already satisfied: PyYAML>=5.3 in /usr/local/lib/python3.11/dist-packages (from langchain) (6.0.2)\n",
            "Requirement already satisfied: SQLAlchemy<3,>=1.4 in /usr/local/lib/python3.11/dist-packages (from langchain) (2.0.37)\n",
            "Requirement already satisfied: aiohttp<4.0.0,>=3.8.3 in /usr/local/lib/python3.11/dist-packages (from langchain) (3.11.11)\n",
            "Requirement already satisfied: langchain-core<0.4.0,>=0.3.33 in /usr/local/lib/python3.11/dist-packages (from langchain) (0.3.33)\n",
            "Requirement already satisfied: langchain-text-splitters<0.4.0,>=0.3.3 in /usr/local/lib/python3.11/dist-packages (from langchain) (0.3.5)\n",
            "Requirement already satisfied: langsmith<0.4,>=0.1.17 in /usr/local/lib/python3.11/dist-packages (from langchain) (0.3.4)\n",
            "Requirement already satisfied: numpy<2,>=1.22.4 in /usr/local/lib/python3.11/dist-packages (from langchain) (1.26.4)\n",
            "Requirement already satisfied: pydantic<3.0.0,>=2.7.4 in /usr/local/lib/python3.11/dist-packages (from langchain) (2.10.6)\n",
            "Requirement already satisfied: requests<3,>=2 in /usr/local/lib/python3.11/dist-packages (from langchain) (2.32.3)\n",
            "Requirement already satisfied: tenacity!=8.4.0,<10,>=8.1.0 in /usr/local/lib/python3.11/dist-packages (from langchain) (9.0.0)\n",
            "Requirement already satisfied: anyio<5,>=3.5.0 in /usr/local/lib/python3.11/dist-packages (from openai) (3.7.1)\n",
            "Requirement already satisfied: distro<2,>=1.7.0 in /usr/local/lib/python3.11/dist-packages (from openai) (1.9.0)\n",
            "Requirement already satisfied: httpx<1,>=0.23.0 in /usr/local/lib/python3.11/dist-packages (from openai) (0.28.1)\n",
            "Requirement already satisfied: jiter<1,>=0.4.0 in /usr/local/lib/python3.11/dist-packages (from openai) (0.8.2)\n",
            "Requirement already satisfied: sniffio in /usr/local/lib/python3.11/dist-packages (from openai) (1.3.1)\n",
            "Requirement already satisfied: tqdm>4 in /usr/local/lib/python3.11/dist-packages (from openai) (4.67.1)\n",
            "Requirement already satisfied: typing-extensions<5,>=4.11 in /usr/local/lib/python3.11/dist-packages (from openai) (4.12.2)\n",
            "Requirement already satisfied: python-dateutil>=2.8.2 in /usr/local/lib/python3.11/dist-packages (from pandas) (2.8.2)\n",
            "Requirement already satisfied: pytz>=2020.1 in /usr/local/lib/python3.11/dist-packages (from pandas) (2025.1)\n",
            "Requirement already satisfied: tzdata>=2022.7 in /usr/local/lib/python3.11/dist-packages (from pandas) (2025.1)\n",
            "Requirement already satisfied: packaging in /usr/local/lib/python3.11/dist-packages (from faiss-cpu) (24.2)\n",
            "Requirement already satisfied: aiohappyeyeballs>=2.3.0 in /usr/local/lib/python3.11/dist-packages (from aiohttp<4.0.0,>=3.8.3->langchain) (2.4.4)\n",
            "Requirement already satisfied: aiosignal>=1.1.2 in /usr/local/lib/python3.11/dist-packages (from aiohttp<4.0.0,>=3.8.3->langchain) (1.3.2)\n",
            "Requirement already satisfied: attrs>=17.3.0 in /usr/local/lib/python3.11/dist-packages (from aiohttp<4.0.0,>=3.8.3->langchain) (25.1.0)\n",
            "Requirement already satisfied: frozenlist>=1.1.1 in /usr/local/lib/python3.11/dist-packages (from aiohttp<4.0.0,>=3.8.3->langchain) (1.5.0)\n",
            "Requirement already satisfied: multidict<7.0,>=4.5 in /usr/local/lib/python3.11/dist-packages (from aiohttp<4.0.0,>=3.8.3->langchain) (6.1.0)\n",
            "Requirement already satisfied: propcache>=0.2.0 in /usr/local/lib/python3.11/dist-packages (from aiohttp<4.0.0,>=3.8.3->langchain) (0.2.1)\n",
            "Requirement already satisfied: yarl<2.0,>=1.17.0 in /usr/local/lib/python3.11/dist-packages (from aiohttp<4.0.0,>=3.8.3->langchain) (1.18.3)\n",
            "Requirement already satisfied: idna>=2.8 in /usr/local/lib/python3.11/dist-packages (from anyio<5,>=3.5.0->openai) (3.10)\n",
            "Requirement already satisfied: certifi in /usr/local/lib/python3.11/dist-packages (from httpx<1,>=0.23.0->openai) (2025.1.31)\n",
            "Requirement already satisfied: httpcore==1.* in /usr/local/lib/python3.11/dist-packages (from httpx<1,>=0.23.0->openai) (1.0.7)\n",
            "Requirement already satisfied: h11<0.15,>=0.13 in /usr/local/lib/python3.11/dist-packages (from httpcore==1.*->httpx<1,>=0.23.0->openai) (0.14.0)\n",
            "Requirement already satisfied: jsonpatch<2.0,>=1.33 in /usr/local/lib/python3.11/dist-packages (from langchain-core<0.4.0,>=0.3.33->langchain) (1.33)\n",
            "Requirement already satisfied: orjson<4.0.0,>=3.9.14 in /usr/local/lib/python3.11/dist-packages (from langsmith<0.4,>=0.1.17->langchain) (3.10.15)\n",
            "Requirement already satisfied: requests-toolbelt<2.0.0,>=1.0.0 in /usr/local/lib/python3.11/dist-packages (from langsmith<0.4,>=0.1.17->langchain) (1.0.0)\n",
            "Requirement already satisfied: zstandard<0.24.0,>=0.23.0 in /usr/local/lib/python3.11/dist-packages (from langsmith<0.4,>=0.1.17->langchain) (0.23.0)\n",
            "Requirement already satisfied: annotated-types>=0.6.0 in /usr/local/lib/python3.11/dist-packages (from pydantic<3.0.0,>=2.7.4->langchain) (0.7.0)\n",
            "Requirement already satisfied: pydantic-core==2.27.2 in /usr/local/lib/python3.11/dist-packages (from pydantic<3.0.0,>=2.7.4->langchain) (2.27.2)\n",
            "Requirement already satisfied: six>=1.5 in /usr/local/lib/python3.11/dist-packages (from python-dateutil>=2.8.2->pandas) (1.17.0)\n",
            "Requirement already satisfied: charset-normalizer<4,>=2 in /usr/local/lib/python3.11/dist-packages (from requests<3,>=2->langchain) (3.4.1)\n",
            "Requirement already satisfied: urllib3<3,>=1.21.1 in /usr/local/lib/python3.11/dist-packages (from requests<3,>=2->langchain) (2.3.0)\n",
            "Requirement already satisfied: greenlet!=0.4.17 in /usr/local/lib/python3.11/dist-packages (from SQLAlchemy<3,>=1.4->langchain) (3.1.1)\n",
            "Requirement already satisfied: jsonpointer>=1.9 in /usr/local/lib/python3.11/dist-packages (from jsonpatch<2.0,>=1.33->langchain-core<0.4.0,>=0.3.33->langchain) (3.0.0)\n",
            "Downloading faiss_cpu-1.10.0-cp311-cp311-manylinux_2_28_x86_64.whl (30.7 MB)\n",
            "\u001b[2K   \u001b[90m━━━━━━━━━━━━━━━━━━━━━━━━━━━━━━━━━━━━━━━━\u001b[0m \u001b[32m30.7/30.7 MB\u001b[0m \u001b[31m36.9 MB/s\u001b[0m eta \u001b[36m0:00:00\u001b[0m\n",
            "\u001b[?25hInstalling collected packages: faiss-cpu\n",
            "Successfully installed faiss-cpu-1.10.0\n"
          ]
        }
      ]
    },
    {
      "cell_type": "code",
      "source": [
        "# instalar dotenv\n",
        "!pip install python-dotenv"
      ],
      "metadata": {
        "colab": {
          "base_uri": "https://localhost:8080/"
        },
        "id": "KJYJlUi5XOj9",
        "outputId": "eec71ef9-58e0-41fc-d3e2-bb91cdd8c10e"
      },
      "execution_count": 18,
      "outputs": [
        {
          "output_type": "stream",
          "name": "stdout",
          "text": [
            "Collecting python-dotenv\n",
            "  Downloading python_dotenv-1.0.1-py3-none-any.whl.metadata (23 kB)\n",
            "Downloading python_dotenv-1.0.1-py3-none-any.whl (19 kB)\n",
            "Installing collected packages: python-dotenv\n",
            "Successfully installed python-dotenv-1.0.1\n"
          ]
        }
      ]
    },
    {
      "cell_type": "code",
      "source": [
        "# Configurar clave de openai con dotenv\n",
        "import os\n",
        "from dotenv import load_dotenv\n",
        "load_dotenv()"
      ],
      "metadata": {
        "colab": {
          "base_uri": "https://localhost:8080/"
        },
        "id": "wnVKjFe9XAXW",
        "outputId": "7f4cf68d-a644-45fa-d220-9cdcdbbb6835"
      },
      "execution_count": 19,
      "outputs": [
        {
          "output_type": "execute_result",
          "data": {
            "text/plain": [
              "True"
            ]
          },
          "metadata": {},
          "execution_count": 19
        }
      ]
    },
    {
      "cell_type": "code",
      "source": [
        "test['title'].iloc[0]"
      ],
      "metadata": {
        "colab": {
          "base_uri": "https://localhost:8080/",
          "height": 36
        },
        "id": "GUw1LLMUYAY2",
        "outputId": "bdda3c15-7c04-4537-a966-fe47b7f7af29"
      },
      "execution_count": 27,
      "outputs": [
        {
          "output_type": "execute_result",
          "data": {
            "text/plain": [
              "\"Arrow Shed Classic 8' x 6' Outdoor Padlockable Steel Storage Shed Building, Sage Green\""
            ],
            "application/vnd.google.colaboratory.intrinsic+json": {
              "type": "string"
            }
          },
          "metadata": {},
          "execution_count": 27
        }
      ]
    },
    {
      "cell_type": "code",
      "source": [
        "!pip install -U langchain-community"
      ],
      "metadata": {
        "colab": {
          "base_uri": "https://localhost:8080/"
        },
        "id": "T4xSQJsXYepR",
        "outputId": "e9a97397-1fa5-474c-9ba3-ef01810eab04"
      },
      "execution_count": 29,
      "outputs": [
        {
          "output_type": "stream",
          "name": "stdout",
          "text": [
            "Collecting langchain-community\n",
            "  Downloading langchain_community-0.3.16-py3-none-any.whl.metadata (2.9 kB)\n",
            "Requirement already satisfied: PyYAML>=5.3 in /usr/local/lib/python3.11/dist-packages (from langchain-community) (6.0.2)\n",
            "Requirement already satisfied: SQLAlchemy<3,>=1.4 in /usr/local/lib/python3.11/dist-packages (from langchain-community) (2.0.37)\n",
            "Requirement already satisfied: aiohttp<4.0.0,>=3.8.3 in /usr/local/lib/python3.11/dist-packages (from langchain-community) (3.11.11)\n",
            "Collecting dataclasses-json<0.7,>=0.5.7 (from langchain-community)\n",
            "  Downloading dataclasses_json-0.6.7-py3-none-any.whl.metadata (25 kB)\n",
            "Collecting httpx-sse<0.5.0,>=0.4.0 (from langchain-community)\n",
            "  Downloading httpx_sse-0.4.0-py3-none-any.whl.metadata (9.0 kB)\n",
            "Requirement already satisfied: langchain<0.4.0,>=0.3.16 in /usr/local/lib/python3.11/dist-packages (from langchain-community) (0.3.17)\n",
            "Requirement already satisfied: langchain-core<0.4.0,>=0.3.32 in /usr/local/lib/python3.11/dist-packages (from langchain-community) (0.3.33)\n",
            "Requirement already satisfied: langsmith<0.4,>=0.1.125 in /usr/local/lib/python3.11/dist-packages (from langchain-community) (0.3.4)\n",
            "Requirement already satisfied: numpy<2,>=1.22.4 in /usr/local/lib/python3.11/dist-packages (from langchain-community) (1.26.4)\n",
            "Collecting pydantic-settings<3.0.0,>=2.4.0 (from langchain-community)\n",
            "  Downloading pydantic_settings-2.7.1-py3-none-any.whl.metadata (3.5 kB)\n",
            "Requirement already satisfied: requests<3,>=2 in /usr/local/lib/python3.11/dist-packages (from langchain-community) (2.32.3)\n",
            "Requirement already satisfied: tenacity!=8.4.0,<10,>=8.1.0 in /usr/local/lib/python3.11/dist-packages (from langchain-community) (9.0.0)\n",
            "Requirement already satisfied: aiohappyeyeballs>=2.3.0 in /usr/local/lib/python3.11/dist-packages (from aiohttp<4.0.0,>=3.8.3->langchain-community) (2.4.4)\n",
            "Requirement already satisfied: aiosignal>=1.1.2 in /usr/local/lib/python3.11/dist-packages (from aiohttp<4.0.0,>=3.8.3->langchain-community) (1.3.2)\n",
            "Requirement already satisfied: attrs>=17.3.0 in /usr/local/lib/python3.11/dist-packages (from aiohttp<4.0.0,>=3.8.3->langchain-community) (25.1.0)\n",
            "Requirement already satisfied: frozenlist>=1.1.1 in /usr/local/lib/python3.11/dist-packages (from aiohttp<4.0.0,>=3.8.3->langchain-community) (1.5.0)\n",
            "Requirement already satisfied: multidict<7.0,>=4.5 in /usr/local/lib/python3.11/dist-packages (from aiohttp<4.0.0,>=3.8.3->langchain-community) (6.1.0)\n",
            "Requirement already satisfied: propcache>=0.2.0 in /usr/local/lib/python3.11/dist-packages (from aiohttp<4.0.0,>=3.8.3->langchain-community) (0.2.1)\n",
            "Requirement already satisfied: yarl<2.0,>=1.17.0 in /usr/local/lib/python3.11/dist-packages (from aiohttp<4.0.0,>=3.8.3->langchain-community) (1.18.3)\n",
            "Collecting marshmallow<4.0.0,>=3.18.0 (from dataclasses-json<0.7,>=0.5.7->langchain-community)\n",
            "  Downloading marshmallow-3.26.1-py3-none-any.whl.metadata (7.3 kB)\n",
            "Collecting typing-inspect<1,>=0.4.0 (from dataclasses-json<0.7,>=0.5.7->langchain-community)\n",
            "  Downloading typing_inspect-0.9.0-py3-none-any.whl.metadata (1.5 kB)\n",
            "Requirement already satisfied: langchain-text-splitters<0.4.0,>=0.3.3 in /usr/local/lib/python3.11/dist-packages (from langchain<0.4.0,>=0.3.16->langchain-community) (0.3.5)\n",
            "Requirement already satisfied: pydantic<3.0.0,>=2.7.4 in /usr/local/lib/python3.11/dist-packages (from langchain<0.4.0,>=0.3.16->langchain-community) (2.10.6)\n",
            "Requirement already satisfied: jsonpatch<2.0,>=1.33 in /usr/local/lib/python3.11/dist-packages (from langchain-core<0.4.0,>=0.3.32->langchain-community) (1.33)\n",
            "Requirement already satisfied: packaging<25,>=23.2 in /usr/local/lib/python3.11/dist-packages (from langchain-core<0.4.0,>=0.3.32->langchain-community) (24.2)\n",
            "Requirement already satisfied: typing-extensions>=4.7 in /usr/local/lib/python3.11/dist-packages (from langchain-core<0.4.0,>=0.3.32->langchain-community) (4.12.2)\n",
            "Requirement already satisfied: httpx<1,>=0.23.0 in /usr/local/lib/python3.11/dist-packages (from langsmith<0.4,>=0.1.125->langchain-community) (0.28.1)\n",
            "Requirement already satisfied: orjson<4.0.0,>=3.9.14 in /usr/local/lib/python3.11/dist-packages (from langsmith<0.4,>=0.1.125->langchain-community) (3.10.15)\n",
            "Requirement already satisfied: requests-toolbelt<2.0.0,>=1.0.0 in /usr/local/lib/python3.11/dist-packages (from langsmith<0.4,>=0.1.125->langchain-community) (1.0.0)\n",
            "Requirement already satisfied: zstandard<0.24.0,>=0.23.0 in /usr/local/lib/python3.11/dist-packages (from langsmith<0.4,>=0.1.125->langchain-community) (0.23.0)\n",
            "Requirement already satisfied: python-dotenv>=0.21.0 in /usr/local/lib/python3.11/dist-packages (from pydantic-settings<3.0.0,>=2.4.0->langchain-community) (1.0.1)\n",
            "Requirement already satisfied: charset-normalizer<4,>=2 in /usr/local/lib/python3.11/dist-packages (from requests<3,>=2->langchain-community) (3.4.1)\n",
            "Requirement already satisfied: idna<4,>=2.5 in /usr/local/lib/python3.11/dist-packages (from requests<3,>=2->langchain-community) (3.10)\n",
            "Requirement already satisfied: urllib3<3,>=1.21.1 in /usr/local/lib/python3.11/dist-packages (from requests<3,>=2->langchain-community) (2.3.0)\n",
            "Requirement already satisfied: certifi>=2017.4.17 in /usr/local/lib/python3.11/dist-packages (from requests<3,>=2->langchain-community) (2025.1.31)\n",
            "Requirement already satisfied: greenlet!=0.4.17 in /usr/local/lib/python3.11/dist-packages (from SQLAlchemy<3,>=1.4->langchain-community) (3.1.1)\n",
            "Requirement already satisfied: anyio in /usr/local/lib/python3.11/dist-packages (from httpx<1,>=0.23.0->langsmith<0.4,>=0.1.125->langchain-community) (3.7.1)\n",
            "Requirement already satisfied: httpcore==1.* in /usr/local/lib/python3.11/dist-packages (from httpx<1,>=0.23.0->langsmith<0.4,>=0.1.125->langchain-community) (1.0.7)\n",
            "Requirement already satisfied: h11<0.15,>=0.13 in /usr/local/lib/python3.11/dist-packages (from httpcore==1.*->httpx<1,>=0.23.0->langsmith<0.4,>=0.1.125->langchain-community) (0.14.0)\n",
            "Requirement already satisfied: jsonpointer>=1.9 in /usr/local/lib/python3.11/dist-packages (from jsonpatch<2.0,>=1.33->langchain-core<0.4.0,>=0.3.32->langchain-community) (3.0.0)\n",
            "Requirement already satisfied: annotated-types>=0.6.0 in /usr/local/lib/python3.11/dist-packages (from pydantic<3.0.0,>=2.7.4->langchain<0.4.0,>=0.3.16->langchain-community) (0.7.0)\n",
            "Requirement already satisfied: pydantic-core==2.27.2 in /usr/local/lib/python3.11/dist-packages (from pydantic<3.0.0,>=2.7.4->langchain<0.4.0,>=0.3.16->langchain-community) (2.27.2)\n",
            "Collecting mypy-extensions>=0.3.0 (from typing-inspect<1,>=0.4.0->dataclasses-json<0.7,>=0.5.7->langchain-community)\n",
            "  Downloading mypy_extensions-1.0.0-py3-none-any.whl.metadata (1.1 kB)\n",
            "Requirement already satisfied: sniffio>=1.1 in /usr/local/lib/python3.11/dist-packages (from anyio->httpx<1,>=0.23.0->langsmith<0.4,>=0.1.125->langchain-community) (1.3.1)\n",
            "Downloading langchain_community-0.3.16-py3-none-any.whl (2.5 MB)\n",
            "\u001b[2K   \u001b[90m━━━━━━━━━━━━━━━━━━━━━━━━━━━━━━━━━━━━━━━━\u001b[0m \u001b[32m2.5/2.5 MB\u001b[0m \u001b[31m32.7 MB/s\u001b[0m eta \u001b[36m0:00:00\u001b[0m\n",
            "\u001b[?25hDownloading dataclasses_json-0.6.7-py3-none-any.whl (28 kB)\n",
            "Downloading httpx_sse-0.4.0-py3-none-any.whl (7.8 kB)\n",
            "Downloading pydantic_settings-2.7.1-py3-none-any.whl (29 kB)\n",
            "Downloading marshmallow-3.26.1-py3-none-any.whl (50 kB)\n",
            "\u001b[2K   \u001b[90m━━━━━━━━━━━━━━━━━━━━━━━━━━━━━━━━━━━━━━━━\u001b[0m \u001b[32m50.9/50.9 kB\u001b[0m \u001b[31m4.0 MB/s\u001b[0m eta \u001b[36m0:00:00\u001b[0m\n",
            "\u001b[?25hDownloading typing_inspect-0.9.0-py3-none-any.whl (8.8 kB)\n",
            "Downloading mypy_extensions-1.0.0-py3-none-any.whl (4.7 kB)\n",
            "Installing collected packages: mypy-extensions, marshmallow, httpx-sse, typing-inspect, pydantic-settings, dataclasses-json, langchain-community\n",
            "Successfully installed dataclasses-json-0.6.7 httpx-sse-0.4.0 langchain-community-0.3.16 marshmallow-3.26.1 mypy-extensions-1.0.0 pydantic-settings-2.7.1 typing-inspect-0.9.0\n"
          ]
        }
      ]
    },
    {
      "cell_type": "code",
      "source": [
        "!pip install tiktoken"
      ],
      "metadata": {
        "colab": {
          "base_uri": "https://localhost:8080/"
        },
        "id": "JqeBK8unZ86w",
        "outputId": "483785da-997b-4d31-9c81-15f531b1b83f"
      },
      "execution_count": 32,
      "outputs": [
        {
          "output_type": "stream",
          "name": "stdout",
          "text": [
            "Collecting tiktoken\n",
            "  Downloading tiktoken-0.8.0-cp311-cp311-manylinux_2_17_x86_64.manylinux2014_x86_64.whl.metadata (6.6 kB)\n",
            "Requirement already satisfied: regex>=2022.1.18 in /usr/local/lib/python3.11/dist-packages (from tiktoken) (2024.11.6)\n",
            "Requirement already satisfied: requests>=2.26.0 in /usr/local/lib/python3.11/dist-packages (from tiktoken) (2.32.3)\n",
            "Requirement already satisfied: charset-normalizer<4,>=2 in /usr/local/lib/python3.11/dist-packages (from requests>=2.26.0->tiktoken) (3.4.1)\n",
            "Requirement already satisfied: idna<4,>=2.5 in /usr/local/lib/python3.11/dist-packages (from requests>=2.26.0->tiktoken) (3.10)\n",
            "Requirement already satisfied: urllib3<3,>=1.21.1 in /usr/local/lib/python3.11/dist-packages (from requests>=2.26.0->tiktoken) (2.3.0)\n",
            "Requirement already satisfied: certifi>=2017.4.17 in /usr/local/lib/python3.11/dist-packages (from requests>=2.26.0->tiktoken) (2025.1.31)\n",
            "Downloading tiktoken-0.8.0-cp311-cp311-manylinux_2_17_x86_64.manylinux2014_x86_64.whl (1.2 MB)\n",
            "\u001b[2K   \u001b[90m━━━━━━━━━━━━━━━━━━━━━━━━━━━━━━━━━━━━━━━━\u001b[0m \u001b[32m1.2/1.2 MB\u001b[0m \u001b[31m13.7 MB/s\u001b[0m eta \u001b[36m0:00:00\u001b[0m\n",
            "\u001b[?25hInstalling collected packages: tiktoken\n",
            "Successfully installed tiktoken-0.8.0\n"
          ]
        }
      ]
    },
    {
      "cell_type": "code",
      "source": [
        "# Sacar una muestra aleaatoria de 10000 ejemplos de train\n",
        "train_sample = train.sample(n=10000, random_state=42)"
      ],
      "metadata": {
        "id": "NQAgDYkJaBAx"
      },
      "execution_count": 37,
      "outputs": []
    },
    {
      "cell_type": "code",
      "source": [
        "%%time\n",
        "import pandas as pd\n",
        "from langchain.vectorstores import FAISS\n",
        "from langchain.embeddings.openai import OpenAIEmbeddings\n",
        "from langchain.chat_models import ChatOpenAI\n",
        "from langchain.prompts import PromptTemplate\n",
        "from langchain.chains import LLMChain\n",
        "from langchain.schema import Document\n",
        "\n",
        "# Carga el dataset CSV\n",
        "df = train_sample.copy() #pd.read_csv(\"tu_dataset.csv\")\n",
        "\n",
        "# Combina las columnas relevantes en un solo campo de contexto\n",
        "df['context'] = df.apply(lambda row: f\"Texto: {row['title']} | Entidad: {row['category_name']}\", axis=1)\n",
        "\n",
        "# Crear documentos para el índice\n",
        "documents = [Document(page_content=row['context']) for _, row in df.iterrows()]\n",
        "\n",
        "# Generar las embeddings utilizando OpenAI\n",
        "embeddings = OpenAIEmbeddings()\n",
        "\n",
        "# Crear el índice utilizando FAISS\n",
        "vector_store = FAISS.from_documents(documents, embeddings)\n",
        "\n",
        "# Inicializa el modelo de lenguaje\n",
        "chat = ChatOpenAI(model=\"gpt-4o\", temperature=0.01)\n",
        "\n",
        "# Define el prompt para la clasificación\n",
        "prompt_template = \"\"\"\n",
        "Eres un modelo encargado de clasificar texto en entidades específicas basándote en ejemplos previos.\n",
        "Se te proporcionará un texto nuevo y ejemplos relevantes del dataset. Analiza los ejemplos y clasifica el texto.\n",
        "\n",
        "Ejemplos relevantes:\n",
        "{retrieved_examples}\n",
        "\n",
        "Texto nuevo: {new_text}\n",
        "\n",
        "Por favor, solo proporciona la entidad encontrada para este texto\n",
        "\"\"\"\n",
        "\n",
        "prompt = PromptTemplate(input_variables=[\"retrieved_examples\", \"new_text\"], template=prompt_template)\n",
        "\n",
        "def clasificar_texto(nuevo_texto, k):\n",
        "    # Recuperar los ejemplos relevantes del índice\n",
        "    docs_relevantes = vector_store.similarity_search(nuevo_texto, k=k)\n",
        "    ejemplos_recuperados = \"\\n\".join([doc.page_content for doc in docs_relevantes])\n",
        "\n",
        "    # Crear el prompt para el modelo\n",
        "    formatted_prompt = prompt.format(retrieved_examples=ejemplos_recuperados, new_text=nuevo_texto)\n",
        "\n",
        "    # Clasificación utilizando el modelo\n",
        "    response = chat.predict(formatted_prompt)\n",
        "    return response.strip()\n",
        "\n"
      ],
      "metadata": {
        "colab": {
          "base_uri": "https://localhost:8080/"
        },
        "id": "ZiMXrn3bXMSF",
        "outputId": "3db8743c-60a5-4b3f-94fe-0e85cb4ed9b8"
      },
      "execution_count": 50,
      "outputs": [
        {
          "output_type": "stream",
          "name": "stdout",
          "text": [
            "CPU times: user 11.4 s, sys: 800 ms, total: 12.2 s\n",
            "Wall time: 31.7 s\n"
          ]
        }
      ]
    },
    {
      "cell_type": "code",
      "source": [
        "# Ejemplo de uso variando el parámetro K\n",
        "k=1\n",
        "nuevo_texto = test['title'].iloc[0]\n",
        "entidad_clasificada = clasificar_texto(nuevo_texto, k)\n",
        "print(f\"Texto de entrada:{nuevo_texto}\")\n",
        "print(f\"Entidad clasificada: {entidad_clasificada}\")\n",
        "print(f\"Texto real:{test['category_name'].iloc[0]}\")"
      ],
      "metadata": {
        "colab": {
          "base_uri": "https://localhost:8080/"
        },
        "id": "EBHhIaHAdASU",
        "outputId": "ce4a0178-53a2-498b-d332-dc88f3b0fe9a"
      },
      "execution_count": 51,
      "outputs": [
        {
          "output_type": "stream",
          "name": "stdout",
          "text": [
            "Texto de entrada:Arrow Shed Classic 8' x 6' Outdoor Padlockable Steel Storage Shed Building, Sage Green\n",
            "Entidad clasificada: Home Storage & Organization\n",
            "Texto real:Outdoor Storage  Housing\n"
          ]
        }
      ]
    },
    {
      "cell_type": "code",
      "source": [
        "%%time\n",
        "# Ejemplo de uso\n",
        "k=2\n",
        "nuevo_texto = test['title'].iloc[0]\n",
        "entidad_clasificada = clasificar_texto(nuevo_texto, k)\n",
        "print(f\"Texto de entrada:{nuevo_texto}\")\n",
        "print(f\"Entidad clasificada: {entidad_clasificada}\")\n",
        "print(f\"Texto real:{test['category_name'].iloc[0]}\")"
      ],
      "metadata": {
        "colab": {
          "base_uri": "https://localhost:8080/"
        },
        "id": "M_qdqloXZQs4",
        "outputId": "3a2d900d-60ec-41ab-dc6e-06e78dfcdf48"
      },
      "execution_count": 53,
      "outputs": [
        {
          "output_type": "stream",
          "name": "stdout",
          "text": [
            "Texto de entrada:Arrow Shed Classic 8' x 6' Outdoor Padlockable Steel Storage Shed Building, Sage Green\n",
            "Entidad clasificada: Garden Storage & Housing\n",
            "Texto real:Outdoor Storage  Housing\n",
            "CPU times: user 43.7 ms, sys: 958 µs, total: 44.7 ms\n",
            "Wall time: 821 ms\n"
          ]
        }
      ]
    },
    {
      "cell_type": "code",
      "source": [
        "%%time\n",
        "# Ejemplo de uso\n",
        "k = 3\n",
        "nuevo_texto = test['title'].iloc[0]\n",
        "entidad_clasificada = clasificar_texto(nuevo_texto, k)\n",
        "print(f\"Texto de entrada:{nuevo_texto}\")\n",
        "print(f\"Entidad clasificada: {entidad_clasificada}\")\n",
        "print(f\"Texto real:{test['category_name'].iloc[0]}\")"
      ],
      "metadata": {
        "colab": {
          "base_uri": "https://localhost:8080/"
        },
        "id": "w5omb5_qbPfD",
        "outputId": "71c99bc4-0935-49b9-9868-468f23d3778f"
      },
      "execution_count": 54,
      "outputs": [
        {
          "output_type": "stream",
          "name": "stdout",
          "text": [
            "Texto de entrada:Arrow Shed Classic 8' x 6' Outdoor Padlockable Steel Storage Shed Building, Sage Green\n",
            "Entidad clasificada: Outdoor Storage Housing\n",
            "Texto real:Outdoor Storage  Housing\n",
            "CPU times: user 50.2 ms, sys: 3.89 ms, total: 54.1 ms\n",
            "Wall time: 839 ms\n"
          ]
        }
      ]
    },
    {
      "cell_type": "code",
      "source": [
        "%%time\n",
        "# Ejemplo de uso\n",
        "k = 4\n",
        "nuevo_texto = test['title'].iloc[0]\n",
        "entidad_clasificada = clasificar_texto(nuevo_texto, k)\n",
        "print(f\"Texto de entrada:{nuevo_texto}\")\n",
        "print(f\"Entidad clasificada: {entidad_clasificada}\")\n",
        "print(f\"Texto real:{test['category_name'].iloc[0]}\")"
      ],
      "metadata": {
        "colab": {
          "base_uri": "https://localhost:8080/"
        },
        "id": "7CoX8-o2biaL",
        "outputId": "e4449b80-68dc-4abe-8a42-2869d1b52c14"
      },
      "execution_count": 55,
      "outputs": [
        {
          "output_type": "stream",
          "name": "stdout",
          "text": [
            "Texto de entrada:Arrow Shed Classic 8' x 6' Outdoor Padlockable Steel Storage Shed Building, Sage Green\n",
            "Entidad clasificada: Outdoor Storage Housing\n",
            "Texto real:Outdoor Storage  Housing\n",
            "CPU times: user 52.7 ms, sys: 2.07 ms, total: 54.8 ms\n",
            "Wall time: 911 ms\n"
          ]
        }
      ]
    },
    {
      "cell_type": "code",
      "source": [
        "%%time\n",
        "# Ejemplo de uso\n",
        "k = 5\n",
        "nuevo_texto = test['title'].iloc[0]\n",
        "entidad_clasificada = clasificar_texto(nuevo_texto, k)\n",
        "print(f\"Texto de entrada:{nuevo_texto}\")\n",
        "print(f\"Entidad clasificada: {entidad_clasificada}\")\n",
        "print(f\"Texto real:{test['category_name'].iloc[0]}\")"
      ],
      "metadata": {
        "colab": {
          "base_uri": "https://localhost:8080/"
        },
        "id": "9C1M5RbYbmPt",
        "outputId": "159417c9-c05f-46b8-d203-3355895cc05f"
      },
      "execution_count": 56,
      "outputs": [
        {
          "output_type": "stream",
          "name": "stdout",
          "text": [
            "Texto de entrada:Arrow Shed Classic 8' x 6' Outdoor Padlockable Steel Storage Shed Building, Sage Green\n",
            "Entidad clasificada: Outdoor Storage Housing\n",
            "Texto real:Outdoor Storage  Housing\n",
            "CPU times: user 41.1 ms, sys: 4.01 ms, total: 45.1 ms\n",
            "Wall time: 907 ms\n"
          ]
        }
      ]
    },
    {
      "cell_type": "code",
      "source": [
        "# Ejemplo de uso\n",
        "k = 5\n",
        "for index in range(10):\n",
        "    print(f'Exmaple{index}:\\n')\n",
        "    nuevo_texto = test['title'].iloc[index]\n",
        "    entidad_clasificada = clasificar_texto(nuevo_texto, k)\n",
        "    print(f\"Texto de entrada:{nuevo_texto}\")\n",
        "    print(f\"Entidad clasificada: {entidad_clasificada}\")\n",
        "    print(f\"Entidad real:{test['category_name'].iloc[index]}\")\n",
        "    print('\\n')"
      ],
      "metadata": {
        "colab": {
          "base_uri": "https://localhost:8080/"
        },
        "id": "QXjr43uKcFXl",
        "outputId": "0e3e277f-1328-4164-cebf-115f7b6ac849"
      },
      "execution_count": 57,
      "outputs": [
        {
          "output_type": "stream",
          "name": "stdout",
          "text": [
            "Exmaple0:\n",
            "\n",
            "Texto de entrada:Arrow Shed Classic 8' x 6' Outdoor Padlockable Steel Storage Shed Building, Sage Green\n",
            "Entidad clasificada: Outdoor Storage Housing\n",
            "Entidad real:Outdoor Storage  Housing\n",
            "\n",
            "\n",
            "Exmaple1:\n",
            "\n",
            "Texto de entrada:Berghaus Women's 24/7 Half Zip Long Sleeve Tech T-Shirt\n",
            "Entidad clasificada: Sports & Outdoors\n",
            "Entidad real:Sports & Outdoors\n",
            "\n",
            "\n",
            "Exmaple2:\n",
            "\n",
            "Texto de entrada:SilverAlloy 45% Ag BAg-5 18\" Flux Coated Silver Solder Brazing Rods 3 Sticks\n",
            "Entidad clasificada: Welding & Soldering\n",
            "Entidad real:Welding & Soldering\n",
            "\n",
            "\n",
            "Exmaple3:\n",
            "\n",
            "Texto de entrada:Get Naked Bath Mat Cute Pink and White Bathroom Rugs Funny Non Slip Bathtub Decor Mats Super Absorbent Floor Carpet Machine Washable Bahtmat for Tub, Shower, Bedroom 16\"x24\"\n",
            "Entidad clasificada: Bath Body\n",
            "Entidad real:Home Décor Products\n",
            "\n",
            "\n",
            "Exmaple4:\n",
            "\n",
            "Texto de entrada:HP JC900A Tippingpoint 80mm Fan Module - Other Accessories\n",
            "Entidad clasificada: Other Accessories\n",
            "Entidad real:KVM Switches\n",
            "\n",
            "\n",
            "Exmaple5:\n",
            "\n",
            "Texto de entrada:Stampcolour Printable Temporary Tattoo Paper for INKJET Printer, 8.5\"X11\" 5 Sheets DIY Tattoos Stickers,Personalized Image Transfer for skin Custom Waterslide Decal for women men\n",
            "Entidad clasificada: Make-up\n",
            "Entidad real:Makeup\n",
            "\n",
            "\n",
            "Exmaple6:\n",
            "\n",
            "Texto de entrada:PERFEMET Green Marble Pattern Bedding Sets Queen Size Watercolor Tie Dye Quilt Sets Luxurious Retro Artwork Comforter Sets Ultra Soft Durable Bright Bed-in-A-Bag 6 Pieces(Green, Queen)\n",
            "Entidad clasificada: Bedding Collections\n",
            "Entidad real:Home Textiles\n",
            "\n",
            "\n",
            "Exmaple7:\n",
            "\n",
            "Texto de entrada:LETLEX Adapter 4K@30Hz 5Gbps High-Speed Type C to HDMI Adapter Aluminum Casing USB C to HDMI Cord USB C to HDMI Adapter with Universal Compatibility for Win XP/Vista/7/8/Mac OS,iOS,Linux\n",
            "Entidad clasificada: USB Hubs\n",
            "Entidad real:Computer Cable Adapters\n",
            "\n",
            "\n",
            "Exmaple8:\n",
            "\n",
            "Texto de entrada:Warning Crazy B*tch Coffee Cup - Rude Gifts - Personalised Coffee Mug Funny Gifts for Women - Gay Best Friend Gift - Joke Gifts Funny Mugs for Work Colleagues - Birthday Gifts for Her Bestie Sister Ex\n",
            "Entidad clasificada: Handmade Kitchen & Dining\n",
            "Entidad real:Handmade Kitchen & Dining\n",
            "\n",
            "\n",
            "Exmaple9:\n",
            "\n",
            "Texto de entrada:LED Outdoor String Lights 100FT Waterproof Patio Lights with 52 Dimmable Edison Bulbs,Shatterproof Outside Hanging String Lights for Porch,Deck,Backyard, Balcony, Bistro,Cafe,2 Pack x 50Ft\n",
            "Entidad clasificada: String Lights\n",
            "Entidad real:Lighting & Ceiling Fans\n",
            "\n",
            "\n"
          ]
        }
      ]
    },
    {
      "cell_type": "code",
      "source": [
        "# Ejemplo de uso\n",
        "k = 10\n",
        "for index in range(10):\n",
        "    print(f'Exmaple{index}:\\n')\n",
        "    nuevo_texto = test['title'].iloc[index]\n",
        "    entidad_clasificada = clasificar_texto(nuevo_texto, k)\n",
        "    print(f\"Texto de entrada:{nuevo_texto}\")\n",
        "    print(f\"Entidad clasificada: {entidad_clasificada}\")\n",
        "    print(f\"Entidad real:{test['category_name'].iloc[index]}\")\n",
        "    print('\\n')"
      ],
      "metadata": {
        "colab": {
          "base_uri": "https://localhost:8080/"
        },
        "id": "8_AB__EkePxV",
        "outputId": "a7ab8733-55dc-42cf-9d3a-877c63a9a223"
      },
      "execution_count": 58,
      "outputs": [
        {
          "output_type": "stream",
          "name": "stdout",
          "text": [
            "Exmaple0:\n",
            "\n",
            "Texto de entrada:Arrow Shed Classic 8' x 6' Outdoor Padlockable Steel Storage Shed Building, Sage Green\n",
            "Entidad clasificada: Outdoor Storage Housing\n",
            "Entidad real:Outdoor Storage  Housing\n",
            "\n",
            "\n",
            "Exmaple1:\n",
            "\n",
            "Texto de entrada:Berghaus Women's 24/7 Half Zip Long Sleeve Tech T-Shirt\n",
            "Entidad clasificada: Sports & Outdoors\n",
            "Entidad real:Sports & Outdoors\n",
            "\n",
            "\n",
            "Exmaple2:\n",
            "\n",
            "Texto de entrada:SilverAlloy 45% Ag BAg-5 18\" Flux Coated Silver Solder Brazing Rods 3 Sticks\n",
            "Entidad clasificada: Welding & Soldering\n",
            "Entidad real:Welding & Soldering\n",
            "\n",
            "\n",
            "Exmaple3:\n",
            "\n",
            "Texto de entrada:Get Naked Bath Mat Cute Pink and White Bathroom Rugs Funny Non Slip Bathtub Decor Mats Super Absorbent Floor Carpet Machine Washable Bahtmat for Tub, Shower, Bedroom 16\"x24\"\n",
            "Entidad clasificada: Bath Products\n",
            "Entidad real:Home Décor Products\n",
            "\n",
            "\n",
            "Exmaple4:\n",
            "\n",
            "Texto de entrada:HP JC900A Tippingpoint 80mm Fan Module - Other Accessories\n",
            "Entidad clasificada: Other Accessories\n",
            "Entidad real:KVM Switches\n",
            "\n",
            "\n",
            "Exmaple5:\n",
            "\n",
            "Texto de entrada:Stampcolour Printable Temporary Tattoo Paper for INKJET Printer, 8.5\"X11\" 5 Sheets DIY Tattoos Stickers,Personalized Image Transfer for skin Custom Waterslide Decal for women men\n",
            "Entidad clasificada: Tattooing Supplies\n",
            "Entidad real:Makeup\n",
            "\n",
            "\n",
            "Exmaple6:\n",
            "\n",
            "Texto de entrada:PERFEMET Green Marble Pattern Bedding Sets Queen Size Watercolor Tie Dye Quilt Sets Luxurious Retro Artwork Comforter Sets Ultra Soft Durable Bright Bed-in-A-Bag 6 Pieces(Green, Queen)\n",
            "Entidad clasificada: Bedding Collections\n",
            "Entidad real:Home Textiles\n",
            "\n",
            "\n",
            "Exmaple7:\n",
            "\n",
            "Texto de entrada:LETLEX Adapter 4K@30Hz 5Gbps High-Speed Type C to HDMI Adapter Aluminum Casing USB C to HDMI Cord USB C to HDMI Adapter with Universal Compatibility for Win XP/Vista/7/8/Mac OS,iOS,Linux\n",
            "Entidad clasificada: USB Hubs\n",
            "Entidad real:Computer Cable Adapters\n",
            "\n",
            "\n",
            "Exmaple8:\n",
            "\n",
            "Texto de entrada:Warning Crazy B*tch Coffee Cup - Rude Gifts - Personalised Coffee Mug Funny Gifts for Women - Gay Best Friend Gift - Joke Gifts Funny Mugs for Work Colleagues - Birthday Gifts for Her Bestie Sister Ex\n",
            "Entidad clasificada: Handmade Kitchen & Dining\n",
            "Entidad real:Handmade Kitchen & Dining\n",
            "\n",
            "\n",
            "Exmaple9:\n",
            "\n",
            "Texto de entrada:LED Outdoor String Lights 100FT Waterproof Patio Lights with 52 Dimmable Edison Bulbs,Shatterproof Outside Hanging String Lights for Porch,Deck,Backyard, Balcony, Bistro,Cafe,2 Pack x 50Ft\n",
            "Entidad clasificada: String Lights\n",
            "Entidad real:Lighting & Ceiling Fans\n",
            "\n",
            "\n"
          ]
        }
      ]
    },
    {
      "cell_type": "code",
      "source": [
        "# Ejemplo de uso\n",
        "k = 50\n",
        "for index in range(10):\n",
        "    print(f'Exmaple{index}:\\n')\n",
        "    nuevo_texto = test['title'].iloc[index]\n",
        "    entidad_clasificada = clasificar_texto(nuevo_texto, k)\n",
        "    print(f\"Texto de entrada:{nuevo_texto}\")\n",
        "    print(f\"Entidad clasificada: {entidad_clasificada}\")\n",
        "    print(f\"Entidad real:{test['category_name'].iloc[index]}\")\n",
        "    print('\\n')"
      ],
      "metadata": {
        "colab": {
          "base_uri": "https://localhost:8080/"
        },
        "id": "PSJ4vnJvejfF",
        "outputId": "2cc2bb2b-18f0-4353-e06f-c637900bc3d1"
      },
      "execution_count": 59,
      "outputs": [
        {
          "output_type": "stream",
          "name": "stdout",
          "text": [
            "Exmaple0:\n",
            "\n",
            "Texto de entrada:Arrow Shed Classic 8' x 6' Outdoor Padlockable Steel Storage Shed Building, Sage Green\n",
            "Entidad clasificada: Outdoor Storage  Housing\n",
            "Entidad real:Outdoor Storage  Housing\n",
            "\n",
            "\n",
            "Exmaple1:\n",
            "\n",
            "Texto de entrada:Berghaus Women's 24/7 Half Zip Long Sleeve Tech T-Shirt\n",
            "Entidad clasificada: Sports & Outdoors\n",
            "Entidad real:Sports & Outdoors\n",
            "\n",
            "\n",
            "Exmaple2:\n",
            "\n",
            "Texto de entrada:SilverAlloy 45% Ag BAg-5 18\" Flux Coated Silver Solder Brazing Rods 3 Sticks\n",
            "Entidad clasificada: Welding & Soldering\n",
            "Entidad real:Welding & Soldering\n",
            "\n",
            "\n",
            "Exmaple3:\n",
            "\n",
            "Texto de entrada:Get Naked Bath Mat Cute Pink and White Bathroom Rugs Funny Non Slip Bathtub Decor Mats Super Absorbent Floor Carpet Machine Washable Bahtmat for Tub, Shower, Bedroom 16\"x24\"\n",
            "Entidad clasificada: Bath Products\n",
            "Entidad real:Home Décor Products\n",
            "\n",
            "\n",
            "Exmaple4:\n",
            "\n",
            "Texto de entrada:HP JC900A Tippingpoint 80mm Fan Module - Other Accessories\n",
            "Entidad clasificada: Computer Components\n",
            "Entidad real:KVM Switches\n",
            "\n",
            "\n",
            "Exmaple5:\n",
            "\n",
            "Texto de entrada:Stampcolour Printable Temporary Tattoo Paper for INKJET Printer, 8.5\"X11\" 5 Sheets DIY Tattoos Stickers,Personalized Image Transfer for skin Custom Waterslide Decal for women men\n",
            "Entidad clasificada: Tattooing Supplies\n",
            "Entidad real:Makeup\n",
            "\n",
            "\n",
            "Exmaple6:\n",
            "\n",
            "Texto de entrada:PERFEMET Green Marble Pattern Bedding Sets Queen Size Watercolor Tie Dye Quilt Sets Luxurious Retro Artwork Comforter Sets Ultra Soft Durable Bright Bed-in-A-Bag 6 Pieces(Green, Queen)\n",
            "Entidad clasificada: Bedding Collections\n",
            "Entidad real:Home Textiles\n",
            "\n",
            "\n",
            "Exmaple7:\n",
            "\n",
            "Texto de entrada:LETLEX Adapter 4K@30Hz 5Gbps High-Speed Type C to HDMI Adapter Aluminum Casing USB C to HDMI Cord USB C to HDMI Adapter with Universal Compatibility for Win XP/Vista/7/8/Mac OS,iOS,Linux\n",
            "Entidad clasificada: USB Hubs\n",
            "Entidad real:Computer Cable Adapters\n",
            "\n",
            "\n",
            "Exmaple8:\n",
            "\n",
            "Texto de entrada:Warning Crazy B*tch Coffee Cup - Rude Gifts - Personalised Coffee Mug Funny Gifts for Women - Gay Best Friend Gift - Joke Gifts Funny Mugs for Work Colleagues - Birthday Gifts for Her Bestie Sister Ex\n",
            "Entidad clasificada: Handmade Kitchen & Dining\n",
            "Entidad real:Handmade Kitchen & Dining\n",
            "\n",
            "\n",
            "Exmaple9:\n",
            "\n",
            "Texto de entrada:LED Outdoor String Lights 100FT Waterproof Patio Lights with 52 Dimmable Edison Bulbs,Shatterproof Outside Hanging String Lights for Porch,Deck,Backyard, Balcony, Bistro,Cafe,2 Pack x 50Ft\n",
            "Entidad clasificada: String Lights\n",
            "Entidad real:Lighting & Ceiling Fans\n",
            "\n",
            "\n"
          ]
        }
      ]
    },
    {
      "cell_type": "code",
      "source": [],
      "metadata": {
        "id": "Hk3W4YiSe2Lk"
      },
      "execution_count": null,
      "outputs": []
    }
  ]
}